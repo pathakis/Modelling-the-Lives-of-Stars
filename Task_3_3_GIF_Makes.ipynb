{
 "cells": [
  {
   "cell_type": "code",
   "execution_count": 1,
   "id": "85344b56-ce06-4d47-b523-4bc2fd21cca9",
   "metadata": {},
   "outputs": [],
   "source": [
    "import numpy as np\n",
    "import scipy as sc\n",
    "import pandas as pd\n",
    "import matplotlib as mpl\n",
    "import matplotlib.pyplot as plt"
   ]
  },
  {
   "cell_type": "code",
   "execution_count": 2,
   "id": "68d22a3c-2749-440e-97b4-90caf9d76357",
   "metadata": {},
   "outputs": [],
   "source": [
    "col_names = ['Step number',\n",
    "'Age (years)',\n",
    "'Mass (M0)',\n",
    "'Log10 Luminosity (L0)',\n",
    "'Log10 Radius (R0)',\n",
    "'Log10 Surface temperature (K)',\n",
    "'Log10 Central temperature (K)',\n",
    "'Log10 Central density (kg m-3)',\n",
    "'Log10 Central pressure (N m-2)',\n",
    "'Central electron degeneracy parameter',\n",
    "'Central hydrogen mass fraction',\n",
    "'Central helium mass fraction',\n",
    "'Central carbon mass fraction',\n",
    "'Central nitrogen mass fraction',\n",
    "'Central oxygen mass fraction',\n",
    "'Dynamical timescale (seconds)',\n",
    "'Kelvin-Helmholtz timescale (years)',\n",
    "'Nuclear timescale (years)',\n",
    "'Luminosity from PP chain (L0)',\n",
    "'Luminosity from CNO cycle (L0)',\n",
    "'Luminosity from triple-alpha reactions (L0)',\n",
    "'Luminosity from metal burning (L0)',\n",
    "'Luminosity of neutrino losses (L0)',\n",
    "'Mass of helium core (M0)',\n",
    "'Mass of carbon core (M0)',\n",
    "'Mass of oxygen core (M0)',\n",
    "'Radius of helium core (R0)',\n",
    "'Radius of carbon core (R0)',\n",
    "'Radius of oxygen core (R0)']"
   ]
  },
  {
   "cell_type": "code",
   "execution_count": 3,
   "id": "8ac9a851-eb0c-48d0-8445-904326187e0c",
   "metadata": {},
   "outputs": [],
   "source": [
    "data_1_5 = pd.read_fwf('Data1_5/Data0_01/summary_SI.txt', names=col_names, index_col=0)\n",
    "data_20 = pd.read_fwf('Data20/Data0_01/summary_SI.txt', names=col_names, index_col=0)"
   ]
  },
  {
   "cell_type": "code",
   "execution_count": null,
   "id": "0e3b6dc4-dd14-44c6-8614-2c0e34f49fe3",
   "metadata": {},
   "outputs": [],
   "source": []
  }
 ],
 "metadata": {
  "kernelspec": {
   "display_name": "Python 3 (ipykernel)",
   "language": "python",
   "name": "python3"
  },
  "language_info": {
   "codemirror_mode": {
    "name": "ipython",
    "version": 3
   },
   "file_extension": ".py",
   "mimetype": "text/x-python",
   "name": "python",
   "nbconvert_exporter": "python",
   "pygments_lexer": "ipython3",
   "version": "3.10.13"
  }
 },
 "nbformat": 4,
 "nbformat_minor": 5
}
